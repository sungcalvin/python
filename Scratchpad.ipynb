{
 "metadata": {
  "name": "",
  "signature": "sha256:0fc6c9662a16ca42dc7f62e6907bd45696f4fe894d75b9bf3a1500a32946bd8d"
 },
 "nbformat": 3,
 "nbformat_minor": 0,
 "worksheets": [
  {
   "cells": [
    {
     "cell_type": "markdown",
     "metadata": {},
     "source": [
      "My experimental python stuff\n",
      "now moved to ipython yeah!"
     ]
    },
    {
     "cell_type": "code",
     "collapsed": false,
     "input": [
      "__author__ = 'CS'\n"
     ],
     "language": "python",
     "metadata": {},
     "outputs": [],
     "prompt_number": 1
    },
    {
     "cell_type": "markdown",
     "metadata": {},
     "source": [
      "This is a one - line comment\n",
      "'''\n",
      "This is a multi line comment.  A multi-line comment begins and ends with three single quotes.\n",
      "\n",
      "'''\n",
      "\n",
      "#Long-term Goals\n",
      "'''\n",
      "GOALS:\n",
      "\n",
      "-Produce a graph of a time series\n",
      "-Load/unload data from a database\n",
      "-Master for/while loops\n",
      "-Read in Excel sheet for\n",
      "-Column-wise data manipulation using scipy/numpy\n",
      "-Build natural gas storage model over a weekend\n",
      "    -Variables: Injection, Withdrawal, Storage, Constraint, Price at Source, Price at Sink\n",
      "\n",
      "'''\n",
      "\n",
      "#Excel manipulation\n",
      "'''\n",
      "Opens a csv file named test.csv.  Stores a references to this open file as fp.\n",
      "Pass fp into the csv module.\n",
      "Create a new csv object named a, write the contents of fp into a.\n",
      "Create a list of strings, separated by rows, called data\n",
      "Write data into the csv object\n",
      "'''\n",
      "\n",
      "'''"
     ]
    },
    {
     "cell_type": "code",
     "collapsed": false,
     "input": [
      "import csv"
     ],
     "language": "python",
     "metadata": {},
     "outputs": [],
     "prompt_number": 2
    },
    {
     "cell_type": "code",
     "collapsed": false,
     "input": [
      "with open('test.csv', 'w', newline= '') as fp:\n",
      "    a = csv.writer(fp, delimiter=',')\n",
      "\n",
      "    data = [['Me', 'and', 'You'],\n",
      "            ['Are', 'always', 'true'],\n",
      "            ['Just', 'call', 'my'],\n",
      "            ['name', 'and'],\n",
      "            [\"I'll\", 'be', 'there']]\n",
      "    'Write data into the csv object'\n",
      "    a.writerows(data)"
     ],
     "language": "python",
     "metadata": {},
     "outputs": []
    },
    {
     "cell_type": "markdown",
     "metadata": {},
     "source": [
      "Opens a csv file named test.csv.  Stores a reference to this open file as f.\n",
      "Pass f into the csv module.\n",
      "Create a new csv (reader?) object named csv_f.\n",
      "Print contents of csv_f one row at a time."
     ]
    },
    {
     "cell_type": "markdown",
     "metadata": {},
     "source": [
      "Numpy practice"
     ]
    },
    {
     "cell_type": "markdown",
     "metadata": {},
     "source": []
    },
    {
     "cell_type": "code",
     "collapsed": false,
     "input": [
      "import csv as csv\n",
      "import pandas as pd\n",
      "\n",
      "readdata = csv.reader(open('pop_change.csv'))\n",
      "\n",
      "data = []\n",
      "\n",
      "for row in readdata:\n",
      "    data.append(row)\n",
      "\n",
      "print(data)\n",
      "\n",
      "Header - data[0]\n",
      "data.pop(0)\n",
      "\n",
      "\n",
      "print(pd.DataFrame(data, columns=Header))"
     ],
     "language": "python",
     "metadata": {},
     "outputs": []
    },
    {
     "cell_type": "code",
     "collapsed": false,
     "input": [
      "#Print array\n",
      "print(data1)\n",
      "\n",
      "#Find out how big the data set is using np.size()\n",
      "npsize = np.size(data1)\n",
      "print(npsize)\n",
      "\n",
      "#Find out the shape (dimensions in rows, columns) of the data using np.shape()\n",
      "npshape = np.shape(data1)\n",
      "print(npshape)"
     ],
     "language": "python",
     "metadata": {},
     "outputs": []
    },
    {
     "cell_type": "code",
     "collapsed": false,
     "input": [
      "import webbrowser\n",
      "webbrowser.open('http://www.google.com')"
     ],
     "language": "python",
     "metadata": {},
     "outputs": []
    },
    {
     "cell_type": "markdown",
     "metadata": {},
     "source": [
      "Praticing line spacing -- Use a back slash to denote a line brake, followed by three spaces of indent to the right"
     ]
    },
    {
     "cell_type": "code",
     "collapsed": false,
     "input": [
      "room_temp_c = 20\n",
      "cooking_temp_f = 350\n",
      "cooking_temp_c = (cooking_temp_f - 32) * 5/9\n",
      "oven_heating_rate_c = 20\n",
      "oven_heating_time = (cooking_temp_c - room_temp_c) / \\\n",
      "   oven_heating_rate_c\n",
      "print(oven_heating_time)\n",
      "\n",
      "print(9 - 3)\n",
      "print(8 * 2.5)\n",
      "print(9 / 2)\n",
      "print(9 / -2)\n",
      "print(9 // -2) #Investigate why this is?\n",
      "print(9 % 2)\n",
      "print(9.0 % 2)\n",
      "print(9 % 2.0)\n",
      "print(9 % -2)\n",
      "print(-9 % 2)"
     ],
     "language": "python",
     "metadata": {},
     "outputs": [
      {
       "output_type": "stream",
       "stream": "stdout",
       "text": [
        "7.833333333333333\n",
        "6\n",
        "20.0\n",
        "4.5\n",
        "-4.5\n",
        "-5\n",
        "1\n",
        "1.0\n",
        "1.0\n",
        "-1\n",
        "1\n"
       ]
      }
     ],
     "prompt_number": 23
    },
    {
     "cell_type": "markdown",
     "metadata": {},
     "source": [
      "#String formatting\n"
     ]
    },
    {
     "cell_type": "markdown",
     "metadata": {},
     "source": [
      "#Exercises\n",
      "Create a Python program which adds up the positive multiples of 3 which are less than 1000. (So, I want 3 + 6 + 9 + ... ).\n",
      "\n",
      "Create a Python program which asks the user for their name and then says, \"Hello \" and then their name.\n",
      "\n",
      "[Hint, you may use the raw_Input(\"\") command to ask them their name. For example, you may type name = raw_input(\"What is your name?\") to ask their name and save it as the variable name.]\n",
      "\n",
      "Create a Python program which asks the user for their favorite number, then multiply that number by 2 and raise the result to the power of 3.\n",
      "\n",
      "Create a Python program which asks the user for a number. If that number is greater than 10, have the program print \"Big\". If that number is not greater than 10, have the program print \"Small.\"\n",
      "\n",
      "Create a Python program which creates a list that has the numbers from 0 to 100 in it, then removes any even numbers and prints the new list.\n",
      "\n",
      "[Hint, this one is harder; you may have to do a \"for\" loop, and then inside of that do an \"if\" statement. To test if a number if even, you can say, if number%2 == 0: as this will say, \"is the number divisible by 2 evenly?\"]"
     ]
    }
   ],
   "metadata": {}
  }
 ]
}