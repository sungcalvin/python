{
 "metadata": {
  "name": "",
  "signature": "sha256:27155aa469064aa299a0ecf1d6245cf38ccceecc3dbdb14b46d30c07add957b5"
 },
 "nbformat": 3,
 "nbformat_minor": 0,
 "worksheets": [
  {
   "cells": [
    {
     "cell_type": "heading",
     "level": 1,
     "metadata": {},
     "source": [
      "Resources"
     ]
    },
    {
     "cell_type": "markdown",
     "metadata": {},
     "source": [
      "More resoures available at http://headfirstlabs.com/books/hfprog/.  "
     ]
    },
    {
     "cell_type": "heading",
     "level": 1,
     "metadata": {},
     "source": [
      "Chapter 1: Starting to Code"
     ]
    },
    {
     "cell_type": "markdown",
     "metadata": {},
     "source": [
      "Guessing game where if number guessed by user is five, prints \"You win!\" and exits a loop.  If number is not guessed, user has infinite chances to re-guess, given guidance.  This program uses a \"while\" loop to keep program running until the right guess is made, and a conditional to step into the while loop."
     ]
    },
    {
     "cell_type": "code",
     "collapsed": false,
     "input": [
      "print(\"Welcome!\")\n",
      "guess = 0\n",
      "\n",
      "while guess != 5:\n",
      "    g = input(\"Guess the number: \")\n",
      "    guess = int(g)\n",
      "    \n",
      "    if guess == 5:\n",
      "        print(\"You win!\")\n",
      "    else:\n",
      "        if guess > 5:\n",
      "            print(\"Too high!\")\n",
      "        else:\n",
      "            print(\"Too low!\")\n",
      "\n",
      "print(\"Game over!\")\n",
      "\n",
      "        "
     ],
     "language": "python",
     "metadata": {},
     "outputs": []
    },
    {
     "cell_type": "markdown",
     "metadata": {},
     "source": [
      "Same program, now modified for the user to guess a random integer instead of \"five\".  To introduce random functionality, two new functions are used, \"import\" and \"randint()\".  "
     ]
    },
    {
     "cell_type": "code",
     "collapsed": false,
     "input": [
      "from random import randint\n",
      "\n",
      "print(\"Welcome!\")\n",
      "secret = randint(1,10)\n",
      "guess = 0\n",
      "\n",
      "while guess != secret:\n",
      "    g = input(\"Guess the number: \")\n",
      "    guess = int(g)\n",
      "    \n",
      "    if guess == secret:\n",
      "        print(\"You win!\")\n",
      "    else:\n",
      "        if guess > secret:\n",
      "            print(\"Too high!\")\n",
      "        else:\n",
      "            print(\"Too low!\")\n",
      "\n",
      "print(\"Game over!\")\n",
      "\n",
      "        "
     ],
     "language": "python",
     "metadata": {},
     "outputs": [
      {
       "output_type": "stream",
       "stream": "stdout",
       "text": [
        "Welcome!\n"
       ]
      },
      {
       "name": "stdout",
       "output_type": "stream",
       "stream": "stdout",
       "text": [
        "Guess the number: 4\n"
       ]
      },
      {
       "output_type": "stream",
       "stream": "stdout",
       "text": [
        "Too high!\n"
       ]
      },
      {
       "name": "stdout",
       "output_type": "stream",
       "stream": "stdout",
       "text": [
        "Guess the number: 3\n"
       ]
      },
      {
       "output_type": "stream",
       "stream": "stdout",
       "text": [
        "Too high!\n"
       ]
      },
      {
       "name": "stdout",
       "output_type": "stream",
       "stream": "stdout",
       "text": [
        "Guess the number: 5\n"
       ]
      },
      {
       "output_type": "stream",
       "stream": "stdout",
       "text": [
        "Too high!\n"
       ]
      },
      {
       "name": "stdout",
       "output_type": "stream",
       "stream": "stdout",
       "text": [
        "Guess the number: 1\n"
       ]
      },
      {
       "output_type": "stream",
       "stream": "stdout",
       "text": [
        "Too low!\n"
       ]
      },
      {
       "name": "stdout",
       "output_type": "stream",
       "stream": "stdout",
       "text": [
        "Guess the number: 2\n"
       ]
      },
      {
       "output_type": "stream",
       "stream": "stdout",
       "text": [
        "You win!\n",
        "Game over!\n"
       ]
      }
     ],
     "prompt_number": 1
    },
    {
     "cell_type": "heading",
     "level": 1,
     "metadata": {},
     "source": [
      "Chapter 2: Textual Data"
     ]
    },
    {
     "cell_type": "markdown",
     "metadata": {},
     "source": [
      "Create some code to parse the html of a page."
     ]
    },
    {
     "cell_type": "code",
     "collapsed": false,
     "input": [
      "import urllib.request\n",
      "\n",
      "page = urllib.request.urlopen(\"http://beans-r-us.appspot.com/prices.html\")\n",
      "text = page.read().decode(\"utf8\")\n",
      "\n",
      "print(text)"
     ],
     "language": "python",
     "metadata": {},
     "outputs": [
      {
       "output_type": "stream",
       "stream": "stdout",
       "text": [
        "<html><head><title>Welcome to the Beans'R'Us Pricing Page</title>\n",
        "<link rel=\"stylesheet\" type=\"text/css\" href=\"beansrus.css\" />\n",
        "</head><body>\n",
        "<h2>Welcome to the Beans'R'Us Pricing Page</h2>\n",
        "<p>Current price of coffee beans = <strong>$6.56</strong></p>\n",
        "<p>Price valid for 15 minutes from Sun Mar  1 22:19:46 2015.</p>\n",
        "</body></html>\n"
       ]
      }
     ],
     "prompt_number": 1
    },
    {
     "cell_type": "markdown",
     "metadata": {},
     "source": [
      "Create a substring to track the price of coffee. String indices in Python begin with zero, and when using them to specify a substring, one reads up to, but not includig, the second index.  Ex: If \"noodle\" were a string s, then s[2:4] would return \"oo\"."
     ]
    },
    {
     "cell_type": "code",
     "collapsed": false,
     "input": [
      "import urllib.request\n",
      "\n",
      "page = urllib.request.urlopen(\"http://beans-r-us.appspot.com/prices.html\")\n",
      "text = page.read().decode(\"utf8\")\n",
      "price = text[234:238]\n",
      "print(price)"
     ],
     "language": "python",
     "metadata": {},
     "outputs": [
      {
       "output_type": "stream",
       "stream": "stdout",
       "text": [
        "6.93\n"
       ]
      }
     ],
     "prompt_number": 1
    },
    {
     "cell_type": "markdown",
     "metadata": {},
     "source": [
      "Read from second website to access second, \"loyalty members\", price.  This requires re-indexing to find correct set of characters.  A smarter way to search?  Search for sub-string within a string!"
     ]
    },
    {
     "cell_type": "code",
     "collapsed": false,
     "input": [
      "import urllib.request\n",
      "\n",
      "page = urllib.request.urlopen(\"http://beans-r-us.appspot.com/prices-loyalty.html\")\n",
      "text = page.read().decode(\"utf8\")\n",
      "\n",
      "begin = text.find(\">$\")\n",
      "start_of_price = begin + 2\n",
      "end_of_price = start_of_price + 4\n",
      "\n",
      "price = text[start_of_price:end_of_price]\n",
      "\n",
      "print(price)\n"
     ],
     "language": "python",
     "metadata": {},
     "outputs": [
      {
       "output_type": "stream",
       "stream": "stdout",
       "text": [
        "4.42\n"
       ]
      }
     ],
     "prompt_number": 2
    },
    {
     "cell_type": "markdown",
     "metadata": {},
     "source": [
      "Now, return a price only when the price is $4.74 or lower.  Use a \"while\" loop, and cast read price to float for comparison."
     ]
    },
    {
     "cell_type": "code",
     "collapsed": false,
     "input": [
      "import urllib.request\n",
      "\n",
      "price = 99.99\n",
      "while price > 4.74:\n",
      "\n",
      "    page = urllib.request.urlopen(\"http://beans-r-us.appspot.com/prices-loyalty.html\")\n",
      "    text = page.read().decode(\"utf8\")\n",
      "    begin = text.find(\">$\")\n",
      "    start_of_price = begin + 2\n",
      "    end_of_price = start_of_price + 4\n",
      "\n",
      "    price = float(text[start_of_price:end_of_price])\n",
      "\n",
      "print(\"Buy @ <$4.74!\")\n",
      "print(price)\n",
      "\n"
     ],
     "language": "python",
     "metadata": {},
     "outputs": [
      {
       "output_type": "stream",
       "stream": "stdout",
       "text": [
        "Buy @ <$4.74!\n",
        "4.49\n"
       ]
      }
     ],
     "prompt_number": 1
    },
    {
     "cell_type": "markdown",
     "metadata": {},
     "source": [
      "Program is hitting the servers thousands of times per hour (especially. because of the while loop) -- need to use a time library to help lighten the load on the server!  (Denial of service attacks have this property.) Will make use of the \"Urllib.request\" library.\n",
      "\n"
     ]
    },
    {
     "cell_type": "code",
     "collapsed": false,
     "input": [
      "import urllib.request\n",
      "import time\n",
      "\n",
      "price = 99.99\n",
      "\n",
      "while price > 4.74:\n",
      "    time.sleep(900) #Wait 60 sec/min * 15 min, or 15 min between requests, since website updated every 15 min anyways.\n",
      "    page = urllib.request.urlopen(\"http://beans-r-us.appspot.com/prices.html\")\n",
      "    text = page.read().decode(\"utf8\")\n",
      "    begin = text.find(\">$\")\n",
      "    start_of_price = begin + 2\n",
      "    end_of_price = start_of_price + 4\n",
      "\n",
      "    price = float(text[start_of_price:end_of_price])\n",
      "\n",
      "print(\"Buy @ <$4.74!\")\n",
      "print(price)\n"
     ],
     "language": "python",
     "metadata": {},
     "outputs": []
    },
    {
     "cell_type": "heading",
     "level": 1,
     "metadata": {},
     "source": [
      "Chapter 3: Functions"
     ]
    },
    {
     "cell_type": "markdown",
     "metadata": {},
     "source": [
      "Functions are defined using the keyward \"def\", followed by the name, parentheses, and a colon \":\". "
     ]
    },
    {
     "cell_type": "code",
     "collapsed": false,
     "input": [
      "import urllib.request\n",
      "import time\n",
      "\n",
      "\n",
      "def get_price():\n",
      "\n",
      "    page = urllib.request.urlopen(\"http://beans-r-us.appspot.com/prices.html\")\n",
      "    text = page.read().decode(\"utf8\")\n",
      "    begin = text.find(\">$\")\n",
      "    start_of_price = begin + 2\n",
      "    end_of_price = start_of_price + 4\n",
      "    price = float(text[start_of_price:end_of_price])\n",
      "    print(price)\n",
      "\n",
      "price = 99.99\n",
      "get_price()\n",
      "\n",
      "while price > 4.74:\n",
      "    time.sleep(900) #Wait 60 sec/min * 15 min, or 15 min between requests, since website updated every 15 min anyways.\n",
      "    \n",
      "    \n",
      "\n",
      "print(\"Buy @ <$4.74!\")\n"
     ],
     "language": "python",
     "metadata": {},
     "outputs": []
    }
   ],
   "metadata": {}
  }
 ]
}