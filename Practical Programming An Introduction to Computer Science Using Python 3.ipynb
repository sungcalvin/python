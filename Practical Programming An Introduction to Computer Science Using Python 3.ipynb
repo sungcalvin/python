{
 "metadata": {
  "name": "",
  "signature": "sha256:6b3b5b17665fd132f09c1a59d22aead4a0a0382984efc0dba1e07f0c46f328ad"
 },
 "nbformat": 3,
 "nbformat_minor": 0,
 "worksheets": [
  {
   "cells": [
    {
     "cell_type": "heading",
     "level": 1,
     "metadata": {},
     "source": [
      "Chapter 2: Hello, Python"
     ]
    },
    {
     "cell_type": "markdown",
     "metadata": {},
     "source": [
      "Expressions and Values"
     ]
    },
    {
     "cell_type": "code",
     "collapsed": false,
     "input": [
      "4 + 13\n"
     ],
     "language": "python",
     "metadata": {},
     "outputs": [
      {
       "metadata": {},
       "output_type": "pyout",
       "prompt_number": 1,
       "text": [
        "17"
       ]
      }
     ],
     "prompt_number": 1
    },
    {
     "cell_type": "code",
     "collapsed": false,
     "input": [
      "4 * 7"
     ],
     "language": "python",
     "metadata": {},
     "outputs": [
      {
       "metadata": {},
       "output_type": "pyout",
       "prompt_number": 2,
       "text": [
        "28"
       ]
      }
     ],
     "prompt_number": 2
    },
    {
     "cell_type": "code",
     "collapsed": false,
     "input": [
      "5 / 2"
     ],
     "language": "python",
     "metadata": {},
     "outputs": [
      {
       "metadata": {},
       "output_type": "pyout",
       "prompt_number": 3,
       "text": [
        "2.5"
       ]
      }
     ],
     "prompt_number": 3
    },
    {
     "cell_type": "markdown",
     "metadata": {},
     "source": [
      "Integer Division, Modulo, and Exponentiation"
     ]
    },
    {
     "cell_type": "markdown",
     "metadata": {},
     "source": [
      "Returns the integer portion of a division result only"
     ]
    },
    {
     "cell_type": "code",
     "collapsed": false,
     "input": [
      "53 // 24"
     ],
     "language": "python",
     "metadata": {},
     "outputs": [
      {
       "metadata": {},
       "output_type": "pyout",
       "prompt_number": 4,
       "text": [
        "2"
       ]
      }
     ],
     "prompt_number": 4
    },
    {
     "cell_type": "code",
     "collapsed": false,
     "input": [
      "17 // 10"
     ],
     "language": "python",
     "metadata": {},
     "outputs": []
    },
    {
     "cell_type": "markdown",
     "metadata": {},
     "source": [
      "Be careful about using % and // with negative operands.  Python takes the floor of the results of an integer division, so the result is one smaller than expected if the result is negative.  "
     ]
    },
    {
     "cell_type": "code",
     "collapsed": false,
     "input": [
      "-17 // 10"
     ],
     "language": "python",
     "metadata": {},
     "outputs": [
      {
       "metadata": {},
       "output_type": "pyout",
       "prompt_number": 15,
       "text": [
        "-2"
       ]
      }
     ],
     "prompt_number": 15
    },
    {
     "cell_type": "code",
     "collapsed": false,
     "input": [
      "17 % 10"
     ],
     "language": "python",
     "metadata": {},
     "outputs": [
      {
       "metadata": {},
       "output_type": "pyout",
       "prompt_number": 11,
       "text": [
        "7"
       ]
      }
     ],
     "prompt_number": 11
    },
    {
     "cell_type": "code",
     "collapsed": false,
     "input": [
      "-17 % 10"
     ],
     "language": "python",
     "metadata": {},
     "outputs": [
      {
       "metadata": {},
       "output_type": "pyout",
       "prompt_number": 12,
       "text": [
        "3"
       ]
      }
     ],
     "prompt_number": 12
    },
    {
     "cell_type": "code",
     "collapsed": false,
     "input": [
      "17 % -10"
     ],
     "language": "python",
     "metadata": {},
     "outputs": [
      {
       "metadata": {},
       "output_type": "pyout",
       "prompt_number": 13,
       "text": [
        "-3"
       ]
      }
     ],
     "prompt_number": 13
    },
    {
     "cell_type": "markdown",
     "metadata": {},
     "source": [
      "Exponents use \"**\""
     ]
    },
    {
     "cell_type": "code",
     "collapsed": false,
     "input": [
      "3 ** 6"
     ],
     "language": "python",
     "metadata": {},
     "outputs": [
      {
       "metadata": {},
       "output_type": "pyout",
       "prompt_number": 5,
       "text": [
        "729"
       ]
      }
     ],
     "prompt_number": 5
    },
    {
     "cell_type": "markdown",
     "metadata": {},
     "source": [
      "Some fun with variables"
     ]
    },
    {
     "cell_type": "code",
     "collapsed": false,
     "input": [
      "degrees_celsius = 33.0"
     ],
     "language": "python",
     "metadata": {},
     "outputs": [],
     "prompt_number": 22
    },
    {
     "cell_type": "code",
     "collapsed": false,
     "input": [
      "9 / 5 * degrees_celsius + 32"
     ],
     "language": "python",
     "metadata": {},
     "outputs": [
      {
       "metadata": {},
       "output_type": "pyout",
       "prompt_number": 23,
       "text": [
        "91.4"
       ]
      }
     ],
     "prompt_number": 23
    },
    {
     "cell_type": "heading",
     "level": 1,
     "metadata": {},
     "source": [
      "Chapter 3: Designing and Using Functions"
     ]
    },
    {
     "cell_type": "markdown",
     "metadata": {},
     "source": [
      "Calculates the absolute value of the difference between two temps"
     ]
    },
    {
     "cell_type": "code",
     "collapsed": false,
     "input": [
      "day_temp = 3\n",
      "night_temp = 10\n",
      "abs(day_temp - night_temp)"
     ],
     "language": "python",
     "metadata": {},
     "outputs": [
      {
       "metadata": {},
       "output_type": "pyout",
       "prompt_number": 1,
       "text": [
        "7"
       ]
      }
     ],
     "prompt_number": 1
    },
    {
     "cell_type": "markdown",
     "metadata": {},
     "source": [
      "Some useful built-in functions convert from one type to another."
     ]
    },
    {
     "cell_type": "code",
     "collapsed": false,
     "input": [
      "int(35.6)\n",
      "int(-23.5)\n",
      "float(21)"
     ],
     "language": "python",
     "metadata": {},
     "outputs": [
      {
       "metadata": {},
       "output_type": "pyout",
       "prompt_number": 2,
       "text": [
        "21.0"
       ]
      }
     ],
     "prompt_number": 2
    },
    {
     "cell_type": "markdown",
     "metadata": {},
     "source": [
      "The function 'id' returns the memory address of an object.  Function objects also have memory addresses."
     ]
    },
    {
     "cell_type": "code",
     "collapsed": false,
     "input": [
      "id(-9)"
     ],
     "language": "python",
     "metadata": {},
     "outputs": [
      {
       "metadata": {},
       "output_type": "pyout",
       "prompt_number": 7,
       "text": [
        "83168080"
       ]
      }
     ],
     "prompt_number": 7
    },
    {
     "cell_type": "code",
     "collapsed": false,
     "input": [
      "id(round)"
     ],
     "language": "python",
     "metadata": {},
     "outputs": [
      {
       "metadata": {},
       "output_type": "pyout",
       "prompt_number": 2,
       "text": [
        "9108872"
       ]
      }
     ],
     "prompt_number": 2
    },
    {
     "cell_type": "markdown",
     "metadata": {},
     "source": [
      "The 'help' function returns help on any function.  "
     ]
    },
    {
     "cell_type": "code",
     "collapsed": false,
     "input": [
      "help(id)"
     ],
     "language": "python",
     "metadata": {},
     "outputs": []
    },
    {
     "cell_type": "code",
     "collapsed": false,
     "input": [
      "help(pow)"
     ],
     "language": "python",
     "metadata": {},
     "outputs": [
      {
       "output_type": "stream",
       "stream": "stdout",
       "text": [
        "Help on built-in function pow in module builtins:\n",
        "\n",
        "pow(...)\n",
        "    pow(x, y[, z]) -> number\n",
        "    \n",
        "    With two arguments, equivalent to x**y.  With three arguments,\n",
        "    equivalent to (x**y) % z, but may be more efficient (e.g. for ints).\n",
        "\n"
       ]
      }
     ],
     "prompt_number": 13
    },
    {
     "cell_type": "markdown",
     "metadata": {},
     "source": [
      "Lines of code can be broken up 1) within parentheses, or 2) with \"\\\", for increased readability.  Note that \"\\\" is backslash, not division symbol"
     ]
    },
    {
     "cell_type": "code",
     "collapsed": false,
     "input": [
      "(2 +\n",
      " 3)"
     ],
     "language": "python",
     "metadata": {},
     "outputs": [
      {
       "metadata": {},
       "output_type": "pyout",
       "prompt_number": 9,
       "text": [
        "5"
       ]
      }
     ],
     "prompt_number": 9
    },
    {
     "cell_type": "code",
     "collapsed": false,
     "input": [
      "2 + \\\n",
      "3"
     ],
     "language": "python",
     "metadata": {},
     "outputs": [
      {
       "metadata": {},
       "output_type": "pyout",
       "prompt_number": 10,
       "text": [
        "5"
       ]
      }
     ],
     "prompt_number": 10
    },
    {
     "cell_type": "markdown",
     "metadata": {},
     "source": [
      "Write a function to convert to Celsius.  Run it"
     ]
    },
    {
     "cell_type": "code",
     "collapsed": false,
     "input": [
      "def convert_to_celsius(fahrenheit):\n",
      "    return (fahrenheit - 32) * 5 / 9\n",
      "convert_to_celsius(451)"
     ],
     "language": "python",
     "metadata": {},
     "outputs": [
      {
       "metadata": {},
       "output_type": "pyout",
       "prompt_number": 14,
       "text": [
        "232.77777777777777"
       ]
      }
     ],
     "prompt_number": 14
    },
    {
     "cell_type": "markdown",
     "metadata": {},
     "source": [
      "Running help function on convert_to_celsius() function\n"
     ]
    },
    {
     "cell_type": "code",
     "collapsed": false,
     "input": [
      "help(convert_to_celsius)"
     ],
     "language": "python",
     "metadata": {},
     "outputs": [
      {
       "output_type": "stream",
       "stream": "stdout",
       "text": [
        "Help on function convert_to_celsius in module __main__:\n",
        "\n",
        "convert_to_celsius(fahrenheit)\n",
        "\n"
       ]
      }
     ],
     "prompt_number": 16
    },
    {
     "cell_type": "markdown",
     "metadata": {},
     "source": [
      "Use local variables for temporary storage, and to increase readability.  Local varaibles are created within functions.  They are:\n",
      "-Erased when the function returns.  \n",
      "-Can't be used outside of the function\n",
      "(Think: What are the performance implications for this?)"
     ]
    },
    {
     "cell_type": "code",
     "collapsed": false,
     "input": [
      "def quadratic(a, b, c, x):\n",
      "    first = a * x ** 2\n",
      "    second = b * x\n",
      "    third = c\n",
      "    return first + second + third\n",
      "\n",
      "quadratic(2, 3, 4, 0.5)"
     ],
     "language": "python",
     "metadata": {},
     "outputs": []
    },
    {
     "cell_type": "code",
     "collapsed": false,
     "input": [
      "def convert_to_celsius(fahrenheit):\n",
      "    celsius = (fahrenheit - 32) * (5 / 9)\n",
      "    return celsius\n",
      "convert_to_celsius(69.5)"
     ],
     "language": "python",
     "metadata": {},
     "outputs": [
      {
       "metadata": {},
       "output_type": "pyout",
       "prompt_number": 6,
       "text": [
        "20.833333333333336"
       ]
      }
     ],
     "prompt_number": 6
    },
    {
     "cell_type": "markdown",
     "metadata": {},
     "source": [
      "Function calls.  Whenever Python executes a function call, it creates a namespace. "
     ]
    },
    {
     "cell_type": "markdown",
     "metadata": {},
     "source": [
      "Documentation: Use three quotes to start and end documentation.  Everything in between is for humans to read.  When designing functions, it's useful to include some run examples for the user to read and understand."
     ]
    },
    {
     "cell_type": "code",
     "collapsed": false,
     "input": [
      "def days_difference(day1, day2):\n",
      "    \"\"\"(int, int) -> int\n",
      "    \n",
      "    Return the number of days in between day1 and day2, which are \n",
      "    both in the range 1-365 (thus indicating the day of year).\n",
      "    \n",
      "    >>>days_difference(1, 32)\n",
      "    31\n",
      "    \n",
      "    \"\"\"\n",
      "    return day2 - day1\n",
      "    "
     ],
     "language": "python",
     "metadata": {},
     "outputs": [],
     "prompt_number": 2
    },
    {
     "cell_type": "code",
     "collapsed": false,
     "input": [
      "days_difference(1, 32)"
     ],
     "language": "python",
     "metadata": {},
     "outputs": [
      {
       "metadata": {},
       "output_type": "pyout",
       "prompt_number": 3,
       "text": [
        "31"
       ]
      }
     ],
     "prompt_number": 3
    },
    {
     "cell_type": "markdown",
     "metadata": {},
     "source": [
      "What day is my birthday on?  Define functions to calculate what day of the week it will be given the current day of the week and how many days ahead we're interested in.  "
     ]
    },
    {
     "cell_type": "code",
     "collapsed": false,
     "input": [
      "def days_difference(day1, day2):\n",
      "    \"\"\"(int, int) -> int\n",
      "    \n",
      "    Return the number of days in between day1 and day2, which are \n",
      "    both in the range 1-365 (thus indicating the day of year).\n",
      "    \n",
      "    >>>days_difference(1, 32)\n",
      "    31\n",
      "    \n",
      "    \"\"\"\n",
      "    return day2 - day1\n",
      "    \n",
      "    \n",
      "def get_weekday(current_weekday, days_ahead):\n",
      "    \"\"\"(int, int) -> int\n",
      "    \n",
      "    Returns which day of the week it will be days_ahead\n",
      "    days from current_weekday.\n",
      "    \n",
      "    current_weekday is the current day of the week and is\n",
      "    in the range 1 - 7, indicating whether today is \n",
      "    Sunday (1), Monday, Saturday (7).\n",
      "    \n",
      "    >>>get_weekday(2,8)\n",
      "    3\n",
      "    >>>get_weekday(6,1)\n",
      "    7\n",
      "    >>>get_weekday(7,2)\n",
      "    2\n",
      "    \"\"\"\n",
      "    \n",
      "    \"\"\"  Note: Code uses a trick to get the number of days to max and 7 and wrap.\n",
      "    \"\"\"\n",
      "    return (current_weekday + days_ahead - 1) % 7 + 1\n",
      "\n",
      "def get_birthday_weekday(current_weekday, current_day, birthday_day):\n",
      "    \"\"\"(int, int, int) -> int\n",
      "    \n",
      "    Figures out what day of the week it will be on birthday_day, given\n",
      "    the day of the week is current_weekday, and the day of\n",
      "    the year is birthday_day.\n",
      "    \n",
      "     >>>get_birthday_weekday(5, 3, 4)\n",
      "    6\n",
      "\n",
      "    \"\"\"\n",
      "    return get_weekday(current_weekday, days_difference(current_day, birthday_day))"
     ],
     "language": "python",
     "metadata": {},
     "outputs": [],
     "prompt_number": 27
    },
    {
     "cell_type": "code",
     "collapsed": false,
     "input": [
      "get_birthday_weekday(6, 113, 3)"
     ],
     "language": "python",
     "metadata": {},
     "outputs": [
      {
       "metadata": {},
       "output_type": "pyout",
       "prompt_number": 16,
       "text": [
        "1"
       ]
      }
     ],
     "prompt_number": 16
    },
    {
     "cell_type": "markdown",
     "metadata": {},
     "source": [
      "Ch. 3: Exercises"
     ]
    },
    {
     "cell_type": "markdown",
     "metadata": {},
     "source": [
      "2) Function call practice"
     ]
    },
    {
     "cell_type": "code",
     "collapsed": false,
     "input": [
      "print(max(2,3,4))\n",
      "print(min(2, -3, 4, 7, -5))\n",
      "print(abs(min(4, 6, max(2,8))))\n",
      "round(max(5.572, 3.258))"
     ],
     "language": "python",
     "metadata": {},
     "outputs": [
      {
       "metadata": {},
       "output_type": "pyout",
       "prompt_number": 18,
       "text": [
        "2"
       ]
      }
     ],
     "prompt_number": 18
    },
    {
     "cell_type": "markdown",
     "metadata": {},
     "source": [
      "3) Design a function that has three parameters, grades between 1 and 100 inclusive, and returns the average of those grades."
     ]
    },
    {
     "cell_type": "code",
     "collapsed": false,
     "input": [
      "def grade_avg(grade1, grade2, grade3):\n",
      "    \"\"\"(float, float, float) -> float\n",
      "    Returns the arithmetic average of three grades -- grade1, grade2, grade3.\n",
      "    \n",
      "    >>>grade_avg(2,3,5)\n",
      "    3.33333\n",
      "    \n",
      "    \"\"\"\n",
      "    \n",
      "    return (grade1 + grade2 + grade3)/3"
     ],
     "language": "python",
     "metadata": {},
     "outputs": [],
     "prompt_number": 25
    },
    {
     "cell_type": "markdown",
     "metadata": {},
     "source": [
      "8) Complete the examples in the docstring then write the body of the following function:"
     ]
    },
    {
     "cell_type": "code",
     "collapsed": false,
     "input": [
      "def weeks_elapsed(day1, day2):\n",
      "    \"\"\"(int, int) -> int\n",
      "    \n",
      "    PRE-REQUISITES: Requires days_difference(day1, day2) function to have been run beforehand.\n",
      "    \n",
      "    day1 and day2 are days in the same year.  Return the number of full weeks that have elapsed between the two days.\n",
      "    Uses an int cast to round down partial weeks, and an abs value to take care of cases where day1 > day2.\n",
      "    \n",
      "    >>>weeks_elapsed(3, 20)\n",
      "    2\n",
      "    \n",
      "    >>>weeks_elapsed(20, 3)\n",
      "    2\n",
      "    \n",
      "    >>>weeks_elapsed(8, 5)\n",
      "    0\n",
      "    \n",
      "    >>>weeks_elapsed(40, 61)\n",
      "    3 \n",
      "    \n",
      "    \"\"\"\n",
      "    \n",
      "    return int(abs(days_difference(day1, day2)) / 7)\n",
      "    "
     ],
     "language": "python",
     "metadata": {},
     "outputs": [],
     "prompt_number": 54
    },
    {
     "cell_type": "code",
     "collapsed": false,
     "input": [
      "weeks_elapsed(40, 61)"
     ],
     "language": "python",
     "metadata": {},
     "outputs": [
      {
       "metadata": {},
       "output_type": "pyout",
       "prompt_number": 55,
       "text": [
        "3"
       ]
      }
     ],
     "prompt_number": 55
    },
    {
     "cell_type": "heading",
     "level": 1,
     "metadata": {},
     "source": [
      "Chapter 4: Working with text"
     ]
    },
    {
     "cell_type": "markdown",
     "metadata": {},
     "source": [
      "4.1 Creating strings of characters"
     ]
    },
    {
     "cell_type": "markdown",
     "metadata": {},
     "source": [
      "A string is generated using '' or \"\".  Must use same symbol.  \"EOL\" error below means \"End of Line\"."
     ]
    },
    {
     "cell_type": "code",
     "collapsed": false,
     "input": [
      "\"Aristotle'"
     ],
     "language": "python",
     "metadata": {},
     "outputs": [
      {
       "ename": "SyntaxError",
       "evalue": "EOL while scanning string literal (<ipython-input-56-78da64c26415>, line 1)",
       "output_type": "pyerr",
       "traceback": [
        "\u001b[1;36m  File \u001b[1;32m\"<ipython-input-56-78da64c26415>\"\u001b[1;36m, line \u001b[1;32m1\u001b[0m\n\u001b[1;33m    \"Aristotle'\u001b[0m\n\u001b[1;37m               ^\u001b[0m\n\u001b[1;31mSyntaxError\u001b[0m\u001b[1;31m:\u001b[0m EOL while scanning string literal\n"
       ]
      }
     ],
     "prompt_number": 56
    },
    {
     "cell_type": "markdown",
     "metadata": {},
     "source": [
      "len() returns the number of characters in the string (btw opening and closing quotes).  Individual spaces count as characters."
     ]
    },
    {
     "cell_type": "code",
     "collapsed": false,
     "input": [
      "print(len(\"Albert Einstein\"))\n",
      "print(len(' '))\n",
      "print(len(''))"
     ],
     "language": "python",
     "metadata": {},
     "outputs": [
      {
       "output_type": "stream",
       "stream": "stdout",
       "text": [
        "15\n",
        "1\n",
        "0\n"
       ]
      }
     ],
     "prompt_number": 59
    },
    {
     "cell_type": "markdown",
     "metadata": {},
     "source": [
      "Two strings can be added together with the \"+\" command.  "
     ]
    },
    {
     "cell_type": "code",
     "collapsed": false,
     "input": [
      "print(\"Alan Turing\" + \" \" + 'Whitney Houston')"
     ],
     "language": "python",
     "metadata": {},
     "outputs": [
      {
       "output_type": "stream",
       "stream": "stdout",
       "text": [
        "Alan Turing Whitney Houston\n"
       ]
      }
     ],
     "prompt_number": 61
    },
    {
     "cell_type": "markdown",
     "metadata": {},
     "source": [
      "Numbers can be cast to strings using the str() command in concatenations.  "
     ]
    },
    {
     "cell_type": "code",
     "collapsed": false,
     "input": [
      "print(\"Four score and \" + str(7) + \" years ago.\")"
     ],
     "language": "python",
     "metadata": {},
     "outputs": [
      {
       "output_type": "stream",
       "stream": "stdout",
       "text": [
        "Four score and 7 years ago.\n"
       ]
      }
     ],
     "prompt_number": 63
    },
    {
     "cell_type": "markdown",
     "metadata": {},
     "source": [
      "Int and float casts can be performed on strings."
     ]
    },
    {
     "cell_type": "code",
     "collapsed": false,
     "input": [
      "print(int('-324'))\n",
      "print(float(\"56.34\"))"
     ],
     "language": "python",
     "metadata": {},
     "outputs": [
      {
       "output_type": "stream",
       "stream": "stdout",
       "text": [
        "-324\n",
        "56.34\n"
       ]
      }
     ],
     "prompt_number": 65
    },
    {
     "cell_type": "markdown",
     "metadata": {},
     "source": [
      "In addition, to +, len, float, and int, a string can be repeated various ways using \"*\" and integer operators.  Multiplying with a <0 operator generates a null string"
     ]
    },
    {
     "cell_type": "code",
     "collapsed": false,
     "input": [
      "print('AT' * 5)\n",
      "print(4 * '-')\n",
      "print(0 * \"-\")\n",
      "print(-3 * \"ATAT\")\n"
     ],
     "language": "python",
     "metadata": {},
     "outputs": [
      {
       "output_type": "stream",
       "stream": "stdout",
       "text": [
        "ATATATATAT\n",
        "----\n",
        "\n",
        "\n"
       ]
      }
     ],
     "prompt_number": 67
    },
    {
     "cell_type": "markdown",
     "metadata": {},
     "source": [
      "Using special characters in strings -- inserting a quotation mark.\n",
      "\n",
      "Standard \" ' \" does not work, as seen below."
     ]
    },
    {
     "cell_type": "code",
     "collapsed": false,
     "input": [
      "'that's not going to work'"
     ],
     "language": "python",
     "metadata": {},
     "outputs": [
      {
       "ename": "SyntaxError",
       "evalue": "invalid syntax (<ipython-input-69-acc4dfa327ed>, line 1)",
       "output_type": "pyerr",
       "traceback": [
        "\u001b[1;36m  File \u001b[1;32m\"<ipython-input-69-acc4dfa327ed>\"\u001b[1;36m, line \u001b[1;32m1\u001b[0m\n\u001b[1;33m    'that's not going to work'\u001b[0m\n\u001b[1;37m          ^\u001b[0m\n\u001b[1;31mSyntaxError\u001b[0m\u001b[1;31m:\u001b[0m invalid syntax\n"
       ]
      }
     ],
     "prompt_number": 69
    },
    {
     "cell_type": "markdown",
     "metadata": {},
     "source": [
      "Using double quotation marks can help"
     ]
    },
    {
     "cell_type": "code",
     "collapsed": false,
     "input": [
      "\"that's better\""
     ],
     "language": "python",
     "metadata": {},
     "outputs": [
      {
       "metadata": {},
       "output_type": "pyout",
       "prompt_number": 70,
       "text": [
        "\"that's better\""
       ]
      }
     ],
     "prompt_number": 70
    },
    {
     "cell_type": "markdown",
     "metadata": {},
     "source": [
      "To create a multi-line string, put three single/double quotes around the entire string.  The string Python creates contains a \\n sequence everywhere the inputs starts a new line."
     ]
    },
    {
     "cell_type": "code",
     "collapsed": false,
     "input": [
      "'''one\n",
      "two\n",
      "three\n",
      "'''"
     ],
     "language": "python",
     "metadata": {},
     "outputs": [
      {
       "metadata": {},
       "output_type": "pyout",
       "prompt_number": 71,
       "text": [
        "'one\\ntwo\\nthree\\n'"
       ]
      }
     ],
     "prompt_number": 71
    },
    {
     "cell_type": "markdown",
     "metadata": {},
     "source": [
      "Print a tabular result using the \\t and \\n commands."
     ]
    },
    {
     "cell_type": "code",
     "collapsed": false,
     "input": [
      "print('one\\ttwo\\nthree\\tfour')"
     ],
     "language": "python",
     "metadata": {},
     "outputs": [
      {
       "output_type": "stream",
       "stream": "stdout",
       "text": [
        "one\ttwo\n",
        "three\tfour\n"
       ]
      }
     ],
     "prompt_number": 72
    },
    {
     "cell_type": "markdown",
     "metadata": {},
     "source": [
      "TBD!"
     ]
    },
    {
     "cell_type": "code",
     "collapsed": false,
     "input": [],
     "language": "python",
     "metadata": {},
     "outputs": [],
     "prompt_number": 73
    },
    {
     "cell_type": "code",
     "collapsed": false,
     "input": [],
     "language": "python",
     "metadata": {},
     "outputs": []
    }
   ],
   "metadata": {}
  }
 ]
}