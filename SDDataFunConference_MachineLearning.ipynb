{
 "metadata": {
  "name": "",
  "signature": "sha256:cbc8a321b1d1b381f008cc4fb2bc1751fa34be0871c9541e7a3cb271d1f06a9f"
 },
 "nbformat": 3,
 "nbformat_minor": 0,
 "worksheets": [
  {
   "cells": [
    {
     "cell_type": "code",
     "collapsed": false,
     "input": [
      "import random\n",
      "import requests\n",
      "__author__ = 'brent'\n",
      "class IndexedArm(object):\n",
      "def __init__(self, index, count=0, average_reward=0.):\n",
      "self.index = index\n",
      "self.count = count\n",
      "self.average_reward = float(average_reward)\n",
      "def update(self, reward):\n",
      "self.count += 1\n",
      "self.average_reward = ((self.count - 1.) / self.count) * self.average_reward + (1. / self.count) * reward\n",
      "def accumulate(values):\n",
      "\"\"\"\n",
      "Given an iterable yields sum total of the list at each iteration\n",
      ":param values: an iterable whose elements can be added\n",
      ":yields: accumulated subtotals for each element\n",
      ":return: None\n",
      "\"\"\"\n",
      "# TODO: replace usage with numpy.cumsum(values) after adding numpy\n",
      "accumulation = None\n",
      "for i, value in enumerate(values):\n",
      "if i == 0:\n",
      "# making no assumptions about the type of items in the list\n",
      "accumulation = value\n",
      "else:\n",
      "accumulation += value\n",
      "yield accumulation\n",
      "class EpsilonGreedyBandit(object):\n",
      "def __init__(self, number_arms=0, epsilon=0.20):\n",
      "self.arms = [IndexedArm(index=i) for i in range(number_arms)]\n",
      "self.epsilon = epsilon\n",
      "if self.epsilon < 0. or self.epsilon > 1.:\n",
      "raise ValueError(\"self.epsilon should be a decimal between 0.0 and 1.0, received {0}\".format(self.epsilon))\n",
      "def select_arm(self):\n",
      "best_arm = max(self.arms, key=lambda x: x.average_reward)\n",
      "if random.random() >= self.epsilon:\n",
      "rv = best_arm\n",
      "else:\n",
      "rv = self.arms[random.randrange(len(self.arms))]\n",
      "return rv\n",
      "def probability_distribution(self):\n",
      "\"\"\"\n",
      "This function returns the probability of each arm being choosen\n",
      ":return: an array of tuples [(<probability to choose this arm>, <the arm class>), ...]\n",
      "\"\"\"\n",
      "if not len(self.arms):\n",
      "return []\n",
      "best_arm = max(self.arms, key=lambda x: x.average_reward)\n",
      "exploring_an_arm_probability = (1 - self.epsilon)/len(self.arms)\n",
      "exploting_or_exploring_best_arm = self.epsilon + exploring_an_arm_probability\n",
      "return [exploring_an_arm_probability if arm != best_arm else exploting_or_exploring_best_arm for arm in self.arms]\n",
      "def cumulative_probability_distribution(self):\n",
      "\"\"\"\n",
      "Returns the cumulative probability distribution for the bandit's arms\n",
      ":return: list of cumulative probabilities in the same order as this bandit's arms\n",
      "\"\"\"\n",
      "return list(accumulate(self.probability_distribution()))\n",
      "@staticmethod\n",
      "def update(arm, reward):\n",
      "arm.update(reward)\n",
      "if __name__ == \"__main__\":\n",
      "bandit = EpsilonGreedyBandit(number_arms=10, epsilon=0.80)\n",
      "count = 0\n",
      "total_reward = 0.0\n",
      "while True:\n",
      "for i in xrange(10000):\n",
      "count += 1\n",
      "arm = bandit.select_arm()\n",
      "url = 'http://dfc-ml.herokuapp.com/{type}?k={arm}&u={username}'.format(type=\"0\", arm=arm.index, username=\"Ruby\")\n",
      "r = requests.get(url)\n",
      "reward = float(r.text)\n",
      "bandit.update(arm, reward)\n",
      "total_reward += reward\n",
      "print \"Count: {count}\\nTotal_reward: {total_reward}\\nAverage Reward: {avg}\\nProbability Distribution across arms:]n{pdist}\\n\".format(count=count, total_reward=total_reward, avg=total_reward/count, pdist=bandit.probability_distribution())\n",
      "break\n"
     ],
     "language": "python",
     "metadata": {},
     "outputs": [
      {
       "ename": "IndentationError",
       "evalue": "expected an indented block (<ipython-input-1-6c4ce2159d20>, line 5)",
       "output_type": "pyerr",
       "traceback": [
        "\u001b[1;36m  File \u001b[1;32m\"<ipython-input-1-6c4ce2159d20>\"\u001b[1;36m, line \u001b[1;32m5\u001b[0m\n\u001b[1;33m    def __init__(self, index, count=0, average_reward=0.):\u001b[0m\n\u001b[1;37m      ^\u001b[0m\n\u001b[1;31mIndentationError\u001b[0m\u001b[1;31m:\u001b[0m expected an indented block\n"
       ]
      }
     ],
     "prompt_number": 1
    },
    {
     "cell_type": "code",
     "collapsed": false,
     "input": [],
     "language": "python",
     "metadata": {},
     "outputs": []
    }
   ],
   "metadata": {}
  }
 ]
}